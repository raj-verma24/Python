{
 "cells": [
  {
   "cell_type": "markdown",
   "id": "892f8545",
   "metadata": {
    "author": "Raj Ranjan Verma",
    "created_date": "2025-01-02",
    "linkedIn": "https://www.linkedin.com/in/raj-ranjan-verma-496548b6/"
   },
   "source": [
    "# PYTHON DATETIME MODULE\n",
    "---\n",
    "**Notebook created by Raj Ranjan Verma**  \n",
    "📅 Date: Jan 2, 2025  \n",
    "🔗 https://www.linkedin.com/in/raj-ranjan-verma-496548b6/\n",
    "---\n"
   ]
  },
  {
   "cell_type": "raw",
   "id": "7796bc69",
   "metadata": {},
   "source": [
    "# The datetime module in Python provides classes for working with dates, times, and timezones. It's widely used for creating, manipulating, and formatting dates and times.\n",
    "\n",
    "Here's an in-depth guide to the datetime module, including naive and aware timezones:\n",
    "\n",
    "Classes in datetime Module\n",
    "\n",
    "datetime: Combines date and time.\n",
    "date: Represents only the date (year, month, day).\n",
    "time: Represents only the time (hour, minute, second, microsecond).\n",
    "timedelta: Represents the difference between two dates or times.\n",
    "timezone: Provides timezone information."
   ]
  },
  {
   "cell_type": "code",
   "execution_count": 1,
   "id": "436f3217",
   "metadata": {},
   "outputs": [],
   "source": [
    "# Importing the datetime Module\n",
    "from datetime import date, time, datetime, timedelta, timezone"
   ]
  },
  {
   "cell_type": "markdown",
   "id": "600a584c",
   "metadata": {},
   "source": [
    "### Overview of date Class"
   ]
  },
  {
   "cell_type": "raw",
   "id": "43a48d7c",
   "metadata": {},
   "source": [
    "The date class represents just the date (year, month, day), without any time or timezone information. It's useful when you only need to work with dates and not timestamps."
   ]
  },
  {
   "cell_type": "code",
   "execution_count": 6,
   "id": "54fb4354",
   "metadata": {},
   "outputs": [],
   "source": [
    "# 1. Importing the date Class\n",
    "from datetime import date"
   ]
  },
  {
   "cell_type": "markdown",
   "id": "742b1af4",
   "metadata": {},
   "source": [
    "#### 2. Creating date Objects\n",
    "There are multiple ways to create date objects:"
   ]
  },
  {
   "cell_type": "code",
   "execution_count": 4,
   "id": "897b1af0",
   "metadata": {},
   "outputs": [
    {
     "name": "stdout",
     "output_type": "stream",
     "text": [
      "2025-01-02\n"
     ]
    }
   ],
   "source": [
    "# A: Any specific date--> You can create a date object for any specific date using the date(year, month, day) constructor:\n",
    "\n",
    "dt=date(2025,1,2)\n",
    "print(dt)"
   ]
  },
  {
   "cell_type": "code",
   "execution_count": 3,
   "id": "d3109d8e",
   "metadata": {},
   "outputs": [
    {
     "name": "stdout",
     "output_type": "stream",
     "text": [
      "Today's date: 2025-01-02\n"
     ]
    }
   ],
   "source": [
    "# B:current_date\n",
    "today = date.today()\n",
    "print(\"Today's date:\", today)\n"
   ]
  },
  {
   "cell_type": "code",
   "execution_count": 5,
   "id": "8cd054d8",
   "metadata": {},
   "outputs": [
    {
     "name": "stdout",
     "output_type": "stream",
     "text": [
      "Date from timestamp: 2023-01-01\n"
     ]
    }
   ],
   "source": [
    "# C:From Timestamp\n",
    "#You can create a date object from a timestamp (number of seconds since the Unix epoch):\n",
    "\n",
    "timestamp_date = date.fromtimestamp(1672531200)  # Replace with your timestamp\n",
    "print(\"Date from timestamp:\", timestamp_date)\n"
   ]
  },
  {
   "cell_type": "markdown",
   "id": "3c04a874",
   "metadata": {},
   "source": [
    "#### 3. Attributes of date Objects"
   ]
  },
  {
   "cell_type": "code",
   "execution_count": 7,
   "id": "448f5dae",
   "metadata": {},
   "outputs": [
    {
     "name": "stdout",
     "output_type": "stream",
     "text": [
      "Year: 2025\n",
      "Month: 1\n",
      "Day: 2\n"
     ]
    }
   ],
   "source": [
    "#A date object has three attributes: year, month, and day\n",
    "\n",
    "d = date(2025, 1, 2)\n",
    "print(\"Year:\", d.year)\n",
    "print(\"Month:\", d.month)\n",
    "print(\"Day:\", d.day)\n"
   ]
  },
  {
   "cell_type": "markdown",
   "id": "84b47f76",
   "metadata": {},
   "source": [
    "#### 4. Methods of date Class"
   ]
  },
  {
   "cell_type": "code",
   "execution_count": 8,
   "id": "92d8643d",
   "metadata": {},
   "outputs": [
    {
     "name": "stdout",
     "output_type": "stream",
     "text": [
      "2025-01-02\n"
     ]
    }
   ],
   "source": [
    "#A. today() --> Gets the current local date.\n",
    "\n",
    "print(date.today()) \n"
   ]
  },
  {
   "cell_type": "code",
   "execution_count": 9,
   "id": "84fb3e0e",
   "metadata": {},
   "outputs": [
    {
     "name": "stdout",
     "output_type": "stream",
     "text": [
      "2023-01-01\n"
     ]
    }
   ],
   "source": [
    "#B. fromtimestamp()\n",
    "# Creates a date object from a POSIX timestamp.\n",
    "\n",
    "print(date.fromtimestamp(1672531200))  # Example: 2023-01-01\n"
   ]
  },
  {
   "cell_type": "code",
   "execution_count": 10,
   "id": "3c31f53a",
   "metadata": {},
   "outputs": [
    {
     "name": "stdout",
     "output_type": "stream",
     "text": [
      "2025-01-02\n"
     ]
    }
   ],
   "source": [
    "#C. isoformat()\n",
    "#Returns the date as an ISO 8601 formatted string.\n",
    "\n",
    "d = date(2025, 1, 2)\n",
    "print(d.isoformat())  # Output: \"2025-01-02\"\n"
   ]
  },
  {
   "cell_type": "code",
   "execution_count": 11,
   "id": "1b4a0e30",
   "metadata": {},
   "outputs": [
    {
     "name": "stdout",
     "output_type": "stream",
     "text": [
      "3\n"
     ]
    }
   ],
   "source": [
    "#D. weekday()\n",
    "#Returns the day of the week as an integer (0 = Monday, 6 = Sunday).\n",
    "d = date(2025, 1, 2)\n",
    "print(d.weekday())  # Output: 3 (Thursday)\n"
   ]
  },
  {
   "cell_type": "code",
   "execution_count": 13,
   "id": "d2bc8769",
   "metadata": {},
   "outputs": [
    {
     "name": "stdout",
     "output_type": "stream",
     "text": [
      "4\n"
     ]
    }
   ],
   "source": [
    "#E. isoweekday()\n",
    "#Returns the day of the week as an integer (1 = Monday, 7 = Sunday).\n",
    "d = date(2025, 1, 2)\n",
    "print(d.isoweekday())  # Output: 4 (Thursday)\n"
   ]
  },
  {
   "cell_type": "markdown",
   "id": "5b794330",
   "metadata": {},
   "source": [
    "#### 5. Formatting date Objects"
   ]
  },
  {
   "cell_type": "code",
   "execution_count": 14,
   "id": "d734e876",
   "metadata": {},
   "outputs": [
    {
     "name": "stdout",
     "output_type": "stream",
     "text": [
      "Formatted date: Thursday, January 02, 2025\n"
     ]
    }
   ],
   "source": [
    "#You can format a date object using the strftime() method.\n",
    "\n",
    "d = date(2025, 1, 2)\n",
    "formatted_date = d.strftime(\"%A, %B %d, %Y\")\n",
    "print(\"Formatted date:\", formatted_date)\n"
   ]
  },
  {
   "cell_type": "markdown",
   "id": "6b2cc0da",
   "metadata": {},
   "source": [
    "Below is the link to know about different format codes\n",
    "\n",
    "https://docs.python.org/3/library/datetime.html#strftime-and-strptime-format-codes"
   ]
  },
  {
   "cell_type": "markdown",
   "id": "31c12403",
   "metadata": {},
   "source": [
    "#### 6. Difference Between Dates (timedelta)"
   ]
  },
  {
   "cell_type": "code",
   "execution_count": 16,
   "id": "39b661ba",
   "metadata": {},
   "outputs": [
    {
     "name": "stdout",
     "output_type": "stream",
     "text": [
      "Difference in days: 8\n"
     ]
    }
   ],
   "source": [
    "# You can subtract two date objects to get a timedelta object.\n",
    "\n",
    "d1 = date(2025, 1, 10)\n",
    "d2 = date(2025, 1, 2)\n",
    "delta = d1 - d2\n",
    "print(\"Difference in days:\", delta.days)\n"
   ]
  },
  {
   "cell_type": "markdown",
   "id": "c34db291",
   "metadata": {},
   "source": [
    "#### 7. Comparisons Between Dates"
   ]
  },
  {
   "cell_type": "code",
   "execution_count": 17,
   "id": "b7ff9a1a",
   "metadata": {},
   "outputs": [
    {
     "name": "stdout",
     "output_type": "stream",
     "text": [
      "True\n",
      "False\n"
     ]
    }
   ],
   "source": [
    "\n",
    "# You can compare two date objects using comparison operators like <, <=, >, >=, ==, and !=.\n",
    "\n",
    "d1 = date(2025, 1, 2)\n",
    "d2 = date(2025, 1, 10)\n",
    "\n",
    "print(d1 < d2)  # True\n",
    "print(d1 == d2)  # False\n"
   ]
  },
  {
   "cell_type": "markdown",
   "id": "c289c9af",
   "metadata": {},
   "source": [
    "#### 8. Common Use Cases"
   ]
  },
  {
   "cell_type": "code",
   "execution_count": 18,
   "id": "823e7ecc",
   "metadata": {},
   "outputs": [
    {
     "name": "stdout",
     "output_type": "stream",
     "text": [
      "It's Thursday!\n"
     ]
    }
   ],
   "source": [
    "# A. Checking for a Specific Day\n",
    "\n",
    "d = date(2025, 1, 2)\n",
    "if d.weekday() == 3:  # Thursday\n",
    "    print(\"It's Thursday!\")"
   ]
  },
  {
   "cell_type": "code",
   "execution_count": 19,
   "id": "2d4d1025",
   "metadata": {},
   "outputs": [
    {
     "name": "stdout",
     "output_type": "stream",
     "text": [
      "First day: 2025-01-01\n",
      "Last day: 2025-01-31\n"
     ]
    }
   ],
   "source": [
    "# B. Get the First and Last Day of a Month\n",
    "\n",
    "from calendar import monthrange\n",
    "\n",
    "# Get the first day of the month\n",
    "year, month = 2025, 1\n",
    "first_day = date(year, month, 1)\n",
    "print(\"First day:\", first_day)\n",
    "\n",
    "# Get the last day of the month\n",
    "_, last_day = monthrange(year, month)\n",
    "last_date = date(year, month, last_day)\n",
    "print(\"Last day:\", last_date)\n"
   ]
  },
  {
   "cell_type": "code",
   "execution_count": 20,
   "id": "c4835d72",
   "metadata": {},
   "outputs": [
    {
     "name": "stdout",
     "output_type": "stream",
     "text": [
      "New date: 2025-01-09\n",
      "Previous date: 2024-12-26\n"
     ]
    }
   ],
   "source": [
    "# C. Add or Subtract Days\n",
    "# You can add or subtract days to/from a date object using timedelta\n",
    "\n",
    "from datetime import timedelta\n",
    "\n",
    "d = date(2025, 1, 2)\n",
    "new_date = d + timedelta(days=7)  # Add 7 days\n",
    "print(\"New date:\", new_date)\n",
    "\n",
    "prev_date = d - timedelta(days=7)  # Subtract 7 days\n",
    "print(\"Previous date:\", prev_date)\n"
   ]
  },
  {
   "cell_type": "markdown",
   "id": "9a265f18",
   "metadata": {},
   "source": [
    "### Overview of the time Class"
   ]
  },
  {
   "cell_type": "markdown",
   "id": "1995a6f4",
   "metadata": {},
   "source": [
    "The time class is used to represent time of day (hour, minute, second, microsecond). It does not include date or timezone information."
   ]
  },
  {
   "cell_type": "markdown",
   "id": "b925bb9e",
   "metadata": {},
   "source": [
    "#### 1. Importing the time Class"
   ]
  },
  {
   "cell_type": "code",
   "execution_count": 21,
   "id": "b2392f8b",
   "metadata": {},
   "outputs": [],
   "source": [
    "from datetime import time\n"
   ]
  },
  {
   "cell_type": "markdown",
   "id": "e0ee45c1",
   "metadata": {},
   "source": [
    "#### 2. Creating time Objects"
   ]
  },
  {
   "cell_type": "code",
   "execution_count": 22,
   "id": "8570ecdb",
   "metadata": {},
   "outputs": [
    {
     "name": "stdout",
     "output_type": "stream",
     "text": [
      "14:30:45\n"
     ]
    }
   ],
   "source": [
    "#A. Basic Usage\n",
    "# You can create a time object using the time(hour, minute, second, microsecond) constructor\n",
    "t = time(14, 30, 45)  # 2:30:45 PM\n",
    "print(t)\n"
   ]
  },
  {
   "cell_type": "code",
   "execution_count": 23,
   "id": "141500e6",
   "metadata": {},
   "outputs": [
    {
     "name": "stdout",
     "output_type": "stream",
     "text": [
      "00:00:00\n"
     ]
    }
   ],
   "source": [
    "#B. Default Values\n",
    "#If you omit any arguments, they default to 0.\n",
    "t = time()  # Midnight\n",
    "print(t)  # Output: 00:00:00\n"
   ]
  },
  {
   "cell_type": "code",
   "execution_count": 24,
   "id": "d34439e0",
   "metadata": {},
   "outputs": [
    {
     "name": "stdout",
     "output_type": "stream",
     "text": [
      "14:30:45.123456\n"
     ]
    }
   ],
   "source": [
    "#C. Microseconds\n",
    "#You can include microseconds if needed:\n",
    "\n",
    "t = time(14, 30, 45, 123456)\n",
    "print(t)  # Output: 14:30:45.123456\n"
   ]
  },
  {
   "cell_type": "markdown",
   "id": "6605ecff",
   "metadata": {},
   "source": [
    "#### 3. Attributes of time Objects"
   ]
  },
  {
   "cell_type": "code",
   "execution_count": 25,
   "id": "da3d7e39",
   "metadata": {},
   "outputs": [
    {
     "name": "stdout",
     "output_type": "stream",
     "text": [
      "Hour: 14\n",
      "Minute: 30\n",
      "Second: 45\n",
      "Microsecond: 123456\n"
     ]
    }
   ],
   "source": [
    "#A time object has several attributes to access specific parts of the time.\n",
    "\n",
    "t = time(14, 30, 45, 123456)\n",
    "\n",
    "print(\"Hour:\", t.hour)          # 14\n",
    "print(\"Minute:\", t.minute)      # 30\n",
    "print(\"Second:\", t.second)      # 45\n",
    "print(\"Microsecond:\", t.microsecond)  # 123456\n"
   ]
  },
  {
   "cell_type": "markdown",
   "id": "cba9dc5d",
   "metadata": {},
   "source": [
    "#### 4. Methods of time Class"
   ]
  },
  {
   "cell_type": "code",
   "execution_count": 28,
   "id": "76de6e8b",
   "metadata": {},
   "outputs": [
    {
     "name": "stdout",
     "output_type": "stream",
     "text": [
      "14:30:45.123456\n"
     ]
    }
   ],
   "source": [
    "# A. isoformat()\n",
    "\n",
    "t = time(14, 30, 45, 123456)\n",
    "print(t.isoformat())  # Output: \"14:30:45.123456\"\n"
   ]
  },
  {
   "cell_type": "code",
   "execution_count": 29,
   "id": "230d21cd",
   "metadata": {},
   "outputs": [
    {
     "name": "stdout",
     "output_type": "stream",
     "text": [
      "Formatted Time: 14:30:45\n"
     ]
    }
   ],
   "source": [
    "#B. strftime()\n",
    "#Formats the time object into a string using specific formatting codes.\n",
    "\n",
    "t = time(14, 30, 45)\n",
    "\n",
    "# Format as \"Hour:Minute:Second\"\n",
    "formatted = t.strftime(\"%H:%M:%S\")\n",
    "print(\"Formatted Time:\", formatted)  # Output: 14:30:45\n"
   ]
  },
  {
   "cell_type": "markdown",
   "id": "07957cb3",
   "metadata": {},
   "source": [
    "#### 5. Comparison of time Objects"
   ]
  },
  {
   "cell_type": "code",
   "execution_count": 30,
   "id": "3476e775",
   "metadata": {},
   "outputs": [
    {
     "name": "stdout",
     "output_type": "stream",
     "text": [
      "True\n",
      "False\n"
     ]
    }
   ],
   "source": [
    "#You can compare two time objects using comparison operators like <, <=, >, >=, ==, and !=\n",
    "\n",
    "t1 = time(14, 30)\n",
    "t2 = time(16, 45)\n",
    "\n",
    "print(t1 < t2)  # True\n",
    "print(t1 == t2)  # False\n"
   ]
  },
  {
   "cell_type": "markdown",
   "id": "9754e546",
   "metadata": {},
   "source": [
    "#### 6. Limitations of time Objects\n",
    "The time class does not include date or timezone information. If you need a complete timestamp (date + time), you should use the datetime class."
   ]
  },
  {
   "cell_type": "markdown",
   "id": "2b5f2ade",
   "metadata": {},
   "source": [
    "#### 7. Working with Timezones"
   ]
  },
  {
   "cell_type": "code",
   "execution_count": 31,
   "id": "82d39c36",
   "metadata": {},
   "outputs": [
    {
     "name": "stdout",
     "output_type": "stream",
     "text": [
      "14:30:45+00:00\n"
     ]
    }
   ],
   "source": [
    "# The time class supports an optional tzinfo argument, which allows you to associate timezone information with the time.\n",
    "\n",
    "# Example with timezone.utc:\n",
    "\n",
    "from datetime import timezone\n",
    "\n",
    "t = time(14, 30, 45, tzinfo=timezone.utc)\n",
    "print(t)  # Output: 14:30:45+00:00\n"
   ]
  },
  {
   "cell_type": "markdown",
   "id": "bb29c49d",
   "metadata": {},
   "source": [
    "#### 8. Common Use Cases"
   ]
  },
  {
   "cell_type": "code",
   "execution_count": 32,
   "id": "e923d2ee",
   "metadata": {},
   "outputs": [
    {
     "name": "stdout",
     "output_type": "stream",
     "text": [
      "Office Hours: 09:00:00 to 17:00:00\n"
     ]
    }
   ],
   "source": [
    "#A. Storing and Representing Time of Day\n",
    "#The time class is ideal for representing times of the day, such as office hours or scheduling.\n",
    "\n",
    "office_start = time(9, 0)  # 9:00 AM\n",
    "office_end = time(17, 0)  # 5:00 PM\n",
    "\n",
    "print(\"Office Hours:\", office_start, \"to\", office_end)\n"
   ]
  },
  {
   "cell_type": "code",
   "execution_count": 33,
   "id": "2afb652e",
   "metadata": {},
   "outputs": [
    {
     "name": "stdout",
     "output_type": "stream",
     "text": [
      "Formatted Time: 02:30 PM\n"
     ]
    }
   ],
   "source": [
    "# B. Formatting Time for User Output\n",
    "\n",
    "t = time(14, 30, 45)\n",
    "formatted_time = t.strftime(\"%I:%M %p\")  # 12-hour format with AM/PM\n",
    "print(\"Formatted Time:\", formatted_time)  # Output: \"02:30 PM\"\n"
   ]
  },
  {
   "cell_type": "markdown",
   "id": "24ae137f",
   "metadata": {},
   "source": [
    "#### 9. Combining time with date"
   ]
  },
  {
   "cell_type": "code",
   "execution_count": 34,
   "id": "bf6d3c27",
   "metadata": {},
   "outputs": [
    {
     "name": "stdout",
     "output_type": "stream",
     "text": [
      "2025-01-02 14:30:00\n"
     ]
    }
   ],
   "source": [
    "# If you need both a date and time together, use the datetime.combine() method:\n",
    "\n",
    "from datetime import date, time, datetime\n",
    "\n",
    "d = date(2025, 1, 2)  # A specific date\n",
    "t = time(14, 30)      # A specific time\n",
    "\n",
    "# Combine into a datetime object\n",
    "dt = datetime.combine(d, t)\n",
    "print(dt)  # Output: 2025-01-02 14:30:00\n"
   ]
  },
  {
   "cell_type": "markdown",
   "id": "0295b4d8",
   "metadata": {},
   "source": [
    "### Overview of the datetime Class\n",
    "The datetime class combines date and time into a single object. It allows you to work with complete timestamps that include the year, month, day, hour, minute, second, microsecond, and optionally timezone information."
   ]
  },
  {
   "cell_type": "markdown",
   "id": "7ecfaaf9",
   "metadata": {},
   "source": [
    "#### 1. Importing the datetime Class"
   ]
  },
  {
   "cell_type": "code",
   "execution_count": 35,
   "id": "e1aceb18",
   "metadata": {},
   "outputs": [],
   "source": [
    "from datetime import datetime\n"
   ]
  },
  {
   "cell_type": "markdown",
   "id": "31a1560b",
   "metadata": {},
   "source": [
    "#### 2. Creating datetime Objects\n",
    "There are several ways to create datetime objects"
   ]
  },
  {
   "cell_type": "code",
   "execution_count": 36,
   "id": "17bba6ab",
   "metadata": {},
   "outputs": [
    {
     "name": "stdout",
     "output_type": "stream",
     "text": [
      "Current datetime: 2025-01-02 23:47:36.302784\n"
     ]
    }
   ],
   "source": [
    "# A. Current Date and Time\n",
    "# The now() method returns the current local date and time.\n",
    "current = datetime.now()\n",
    "print(\"Current datetime:\", current)\n"
   ]
  },
  {
   "cell_type": "code",
   "execution_count": 37,
   "id": "ae460031",
   "metadata": {},
   "outputs": [
    {
     "name": "stdout",
     "output_type": "stream",
     "text": [
      "Current UTC datetime: 2025-01-02 23:48:29.727007\n"
     ]
    }
   ],
   "source": [
    "#B. Current UTC Time\n",
    "#Use utcnow() to get the current time in UTC (Coordinated Universal Time).\n",
    "\n",
    "utc_current = datetime.utcnow()\n",
    "print(\"Current UTC datetime:\", utc_current)\n"
   ]
  },
  {
   "cell_type": "code",
   "execution_count": 38,
   "id": "0465fb14",
   "metadata": {},
   "outputs": [
    {
     "name": "stdout",
     "output_type": "stream",
     "text": [
      "Specific datetime: 2023-05-10 14:30:45.120000\n"
     ]
    }
   ],
   "source": [
    "#C. Specific Date and Time\n",
    "#You can specify the year, month, day, hour, minute, second, and microsecond:\n",
    "\n",
    "specific_datetime = datetime(2023, 5, 10, 14, 30, 45, 120000)\n",
    "print(\"Specific datetime:\", specific_datetime)\n"
   ]
  },
  {
   "cell_type": "code",
   "execution_count": 39,
   "id": "fbf0e549",
   "metadata": {},
   "outputs": [
    {
     "name": "stdout",
     "output_type": "stream",
     "text": [
      "Datetime from timestamp: 2023-01-01 00:00:00\n"
     ]
    }
   ],
   "source": [
    "# D. From Timestamp\n",
    "# Convert a POSIX timestamp (seconds since the epoch) to a datetime object using fromtimestamp().\n",
    "\n",
    "timestamp_datetime = datetime.fromtimestamp(1672531200)\n",
    "print(\"Datetime from timestamp:\", timestamp_datetime)\n"
   ]
  },
  {
   "cell_type": "markdown",
   "id": "dc6dd82d",
   "metadata": {},
   "source": [
    "#### 3. Attributes of datetime Objects"
   ]
  },
  {
   "cell_type": "code",
   "execution_count": 40,
   "id": "584685a2",
   "metadata": {},
   "outputs": [
    {
     "name": "stdout",
     "output_type": "stream",
     "text": [
      "Year: 2025\n",
      "Month: 1\n",
      "Day: 2\n",
      "Hour: 14\n",
      "Minute: 30\n",
      "Second: 45\n",
      "Microsecond: 123456\n"
     ]
    }
   ],
   "source": [
    "#A datetime object has attributes for both date and time components\n",
    "\n",
    "dt = datetime(2025, 1, 2, 14, 30, 45, 123456)\n",
    "\n",
    "print(\"Year:\", dt.year)          # 2025\n",
    "print(\"Month:\", dt.month)        # 1\n",
    "print(\"Day:\", dt.day)            # 2\n",
    "print(\"Hour:\", dt.hour)          # 14\n",
    "print(\"Minute:\", dt.minute)      # 30\n",
    "print(\"Second:\", dt.second)      # 45\n",
    "print(\"Microsecond:\", dt.microsecond)  # 123456\n"
   ]
  },
  {
   "cell_type": "markdown",
   "id": "e047ab30",
   "metadata": {},
   "source": [
    "#### 4. Methods of datetime Class"
   ]
  },
  {
   "cell_type": "code",
   "execution_count": 41,
   "id": "b4929c44",
   "metadata": {},
   "outputs": [
    {
     "name": "stdout",
     "output_type": "stream",
     "text": [
      "2025-01-02 23:53:03.535562\n"
     ]
    }
   ],
   "source": [
    "# A. now()\n",
    "# Returns the current local date and time.\n",
    "\n",
    "print(datetime.now())  # Example: 2025-01-02 14:30:45\n"
   ]
  },
  {
   "cell_type": "code",
   "execution_count": 42,
   "id": "f935c2ef",
   "metadata": {},
   "outputs": [
    {
     "name": "stdout",
     "output_type": "stream",
     "text": [
      "2025-01-02 23:53:25.240494\n"
     ]
    }
   ],
   "source": [
    "# B. utcnow()\n",
    "#Returns the current UTC date and time.\n",
    "\n",
    "print(datetime.utcnow())  # Example: 2025-01-02 09:00:45\n"
   ]
  },
  {
   "cell_type": "code",
   "execution_count": 43,
   "id": "f9ee3b4b",
   "metadata": {},
   "outputs": [
    {
     "name": "stdout",
     "output_type": "stream",
     "text": [
      "2023-01-01 00:00:00\n"
     ]
    }
   ],
   "source": [
    "# C. fromtimestamp()\n",
    "# Creates a datetime object from a POSIX timestamp.\n",
    "\n",
    "print(datetime.fromtimestamp(1672531200))  # Example: 2023-01-01 00:00:00\n"
   ]
  },
  {
   "cell_type": "code",
   "execution_count": 44,
   "id": "6dc980a7",
   "metadata": {},
   "outputs": [
    {
     "name": "stdout",
     "output_type": "stream",
     "text": [
      "2025-01-02 14:30:00\n"
     ]
    }
   ],
   "source": [
    "# D. combine()\n",
    "# Combines a date and time object into a datetime object.\n",
    "\n",
    "from datetime import date, time\n",
    "\n",
    "d = date(2025, 1, 2)\n",
    "t = time(14, 30)\n",
    "combined = datetime.combine(d, t)\n",
    "print(combined)  # Output: 2025-01-02 14:30:00\n"
   ]
  },
  {
   "cell_type": "code",
   "execution_count": 45,
   "id": "8dd5a8b9",
   "metadata": {},
   "outputs": [
    {
     "name": "stdout",
     "output_type": "stream",
     "text": [
      "Formatted datetime: Thursday, January 02, 2025 02:30 PM\n"
     ]
    }
   ],
   "source": [
    "# E. strftime()\n",
    "#Formats the datetime object into a string using specific formatting codes.\n",
    "\n",
    "dt = datetime(2025, 1, 2, 14, 30, 45)\n",
    "formatted = dt.strftime(\"%A, %B %d, %Y %I:%M %p\")\n",
    "print(\"Formatted datetime:\", formatted)\n"
   ]
  },
  {
   "cell_type": "code",
   "execution_count": 46,
   "id": "bc36d4ee",
   "metadata": {},
   "outputs": [
    {
     "name": "stdout",
     "output_type": "stream",
     "text": [
      "2025-01-02 14:30:45\n"
     ]
    }
   ],
   "source": [
    "# F. strptime()\n",
    "# Parses a string into a datetime object based on a format.\n",
    "\n",
    "date_string = \"2025-01-02 14:30:45\"\n",
    "dt = datetime.strptime(date_string, \"%Y-%m-%d %H:%M:%S\")\n",
    "print(dt)  # Output: 2025-01-02 14:30:45\n"
   ]
  },
  {
   "cell_type": "markdown",
   "id": "f52775ed",
   "metadata": {},
   "source": [
    "#### 5. Arithmetic with datetime Objects"
   ]
  },
  {
   "cell_type": "code",
   "execution_count": 47,
   "id": "6444d397",
   "metadata": {},
   "outputs": [
    {
     "name": "stdout",
     "output_type": "stream",
     "text": [
      "2025-01-09 16:30:00\n"
     ]
    }
   ],
   "source": [
    "#A. Adding or Subtracting Time\n",
    "#Use the timedelta class to add or subtract time.\n",
    "\n",
    "from datetime import timedelta\n",
    "\n",
    "dt = datetime(2025, 1, 2, 14, 30)\n",
    "new_dt = dt + timedelta(days=7, hours=2)  # Add 7 days and 2 hours\n",
    "print(new_dt)  # Output: 2025-01-09 16:30:00\n"
   ]
  },
  {
   "cell_type": "code",
   "execution_count": 48,
   "id": "9b1fc448",
   "metadata": {},
   "outputs": [
    {
     "name": "stdout",
     "output_type": "stream",
     "text": [
      "8\n"
     ]
    }
   ],
   "source": [
    "#B. Difference Between Datetimes\n",
    "#Subtracting two datetime objects gives a timedelta object.\n",
    "\n",
    "dt1 = datetime(2025, 1, 10)\n",
    "dt2 = datetime(2025, 1, 2)\n",
    "delta = dt1 - dt2\n",
    "print(delta.days)  # Output: 8\n"
   ]
  },
  {
   "cell_type": "markdown",
   "id": "360597d5",
   "metadata": {},
   "source": [
    "#### 6. Timezone-Aware vs Naive datetime Objects"
   ]
  },
  {
   "cell_type": "code",
   "execution_count": 49,
   "id": "2422e4e7",
   "metadata": {},
   "outputs": [
    {
     "name": "stdout",
     "output_type": "stream",
     "text": [
      "2025-01-02 14:30:00\n"
     ]
    }
   ],
   "source": [
    "# A. Naive datetime\n",
    "#A naive datetime object does not have timezone information.\n",
    "\n",
    "naive = datetime(2025, 1, 2, 14, 30)\n",
    "print(naive)  # Output: 2025-01-02 14:30:00\n"
   ]
  },
  {
   "cell_type": "code",
   "execution_count": 50,
   "id": "6a53c463",
   "metadata": {},
   "outputs": [
    {
     "name": "stdout",
     "output_type": "stream",
     "text": [
      "2025-01-02 14:30:00+00:00\n"
     ]
    }
   ],
   "source": [
    "#B. Timezone-Aware datetime\n",
    "# Use the pytz or timezone module to create timezone-aware datetime objects.\n",
    "\n",
    "from datetime import timezone\n",
    "\n",
    "aware = datetime(2025, 1, 2, 14, 30, tzinfo=timezone.utc)\n",
    "print(aware)  # Output: 2025-01-02 14:30:00+00:00\n"
   ]
  },
  {
   "cell_type": "code",
   "execution_count": 54,
   "id": "3f0624a9",
   "metadata": {},
   "outputs": [
    {
     "name": "stdout",
     "output_type": "stream",
     "text": [
      "2025-01-02 00:03:00+05:30\n"
     ]
    }
   ],
   "source": [
    "# with pytz\n",
    "\n",
    "import pytz\n",
    "\n",
    "tz = pytz.timezone('Asia/Kolkata')\n",
    "aware = tz.localize(datetime(2025, 1, 2, 0, 3))\n",
    "print(aware)  # Output: 2025-01-02 00:03:00+05:30\n"
   ]
  },
  {
   "cell_type": "markdown",
   "id": "bfde3c00",
   "metadata": {},
   "source": [
    "#### 8. Common Use Cases"
   ]
  },
  {
   "cell_type": "code",
   "execution_count": 55,
   "id": "9c660390",
   "metadata": {},
   "outputs": [
    {
     "name": "stdout",
     "output_type": "stream",
     "text": [
      "Current Timestamp: 2025-01-03 00:04:58\n"
     ]
    }
   ],
   "source": [
    "# A. Getting the Current Timestamp\n",
    "\n",
    "current_timestamp = datetime.now().strftime(\"%Y-%m-%d %H:%M:%S\")\n",
    "print(\"Current Timestamp:\", current_timestamp)\n"
   ]
  },
  {
   "cell_type": "code",
   "execution_count": 56,
   "id": "0d2d4a48",
   "metadata": {},
   "outputs": [
    {
     "name": "stdout",
     "output_type": "stream",
     "text": [
      "Formatted Timestamp: Thursday, 02 January 2025, 02:30 PM\n"
     ]
    }
   ],
   "source": [
    "# B. Parsing and Formatting Timestamps\n",
    "\n",
    "timestamp = \"2025-01-02 14:30:45\"\n",
    "dt = datetime.strptime(timestamp, \"%Y-%m-%d %H:%M:%S\")\n",
    "formatted = dt.strftime(\"%A, %d %B %Y, %I:%M %p\")\n",
    "print(\"Formatted Timestamp:\", formatted)\n"
   ]
  },
  {
   "cell_type": "markdown",
   "id": "ff7441a7",
   "metadata": {},
   "source": [
    "### Overview of the timedelta Class\n",
    "The timedelta class is used to represent a duration (difference between two dates or times). You can perform arithmetic with it to add or subtract time intervals from datetime or date objects."
   ]
  },
  {
   "cell_type": "markdown",
   "id": "04e0e81a",
   "metadata": {},
   "source": [
    "#### 1. Importing the timedelta Class"
   ]
  },
  {
   "cell_type": "code",
   "execution_count": 57,
   "id": "c2d1fcc3",
   "metadata": {},
   "outputs": [],
   "source": [
    "from datetime import timedelta"
   ]
  },
  {
   "cell_type": "markdown",
   "id": "905efe8d",
   "metadata": {},
   "source": [
    "#### 2. Creating timedelta Objects"
   ]
  },
  {
   "cell_type": "code",
   "execution_count": 58,
   "id": "bfca9439",
   "metadata": {},
   "outputs": [
    {
     "data": {
      "text/plain": [
       "datetime.timedelta(0)"
      ]
     },
     "execution_count": 58,
     "metadata": {},
     "output_type": "execute_result"
    }
   ],
   "source": [
    "#You can create a timedelta object using various time intervals:\n",
    "\n",
    "timedelta(days=0, seconds=0, microseconds=0, milliseconds=0, minutes=0, hours=0, weeks=0)\n"
   ]
  },
  {
   "cell_type": "code",
   "execution_count": 59,
   "id": "1e3477d3",
   "metadata": {},
   "outputs": [
    {
     "name": "stdout",
     "output_type": "stream",
     "text": [
      "5 days, 3:30:00\n"
     ]
    }
   ],
   "source": [
    "#A. Basic Example\n",
    "\n",
    "delta = timedelta(days=5, hours=3, minutes=30)\n",
    "print(delta)  # Output: 5 days, 3:30:00\n"
   ]
  },
  {
   "cell_type": "code",
   "execution_count": 60,
   "id": "61c9d183",
   "metadata": {},
   "outputs": [
    {
     "name": "stdout",
     "output_type": "stream",
     "text": [
      "0:00:00\n"
     ]
    }
   ],
   "source": [
    "#B. Default Values\n",
    "# If no arguments are provided, the timedelta represents zero duration.\n",
    "\n",
    "delta = timedelta()\n",
    "print(delta)  # Output: 0:00:00\n",
    "\n"
   ]
  },
  {
   "cell_type": "markdown",
   "id": "ae6798e5",
   "metadata": {},
   "source": [
    "#### 3. Attributes of timedelta"
   ]
  },
  {
   "cell_type": "raw",
   "id": "df436274",
   "metadata": {},
   "source": [
    "A timedelta object has three main attributes:\n",
    "\n",
    "days – The number of days in the timedelta.\n",
    "seconds – The number of seconds (excluding days).\n",
    "microseconds – The number of microseconds (excluding days and seconds)."
   ]
  },
  {
   "cell_type": "code",
   "execution_count": 61,
   "id": "3a55e3c6",
   "metadata": {},
   "outputs": [
    {
     "name": "stdout",
     "output_type": "stream",
     "text": [
      "Days: 5\n",
      "Seconds: 12615\n",
      "Microseconds: 0\n"
     ]
    }
   ],
   "source": [
    "delta = timedelta(days=5, hours=3, minutes=30, seconds=15)\n",
    "\n",
    "print(\"Days:\", delta.days)               # 5\n",
    "print(\"Seconds:\", delta.seconds)         # 12615 (3 hours + 30 minutes + 15 seconds)\n",
    "print(\"Microseconds:\", delta.microseconds)  # 0\n",
    "\n"
   ]
  },
  {
   "cell_type": "markdown",
   "id": "463ecd75",
   "metadata": {},
   "source": [
    "#### 4. Arithmetic with timedelta"
   ]
  },
  {
   "cell_type": "code",
   "execution_count": 62,
   "id": "fb2dc143",
   "metadata": {},
   "outputs": [
    {
     "name": "stdout",
     "output_type": "stream",
     "text": [
      "Future datetime: 2025-01-09 16:30:00\n",
      "Past datetime: 2024-12-30 14:30:00\n"
     ]
    }
   ],
   "source": [
    "# A. Adding/Subtracting Time\n",
    "#You can add or subtract a timedelta to/from a datetime or date.\n",
    "\n",
    "from datetime import datetime, timedelta\n",
    "\n",
    "now = datetime(2025, 1, 2, 14, 30)\n",
    "\n",
    "# Add 7 days and 2 hours\n",
    "future = now + timedelta(days=7, hours=2)\n",
    "print(\"Future datetime:\", future)  # Output: 2025-01-09 16:30:00\n",
    "\n",
    "# Subtract 3 days\n",
    "past = now - timedelta(days=3)\n",
    "print(\"Past datetime:\", past)  # Output: 2024-12-30 14:30:00\n"
   ]
  },
  {
   "cell_type": "code",
   "execution_count": 63,
   "id": "d9d7c7de",
   "metadata": {},
   "outputs": [
    {
     "name": "stdout",
     "output_type": "stream",
     "text": [
      "Difference: 8 days, 0:00:00\n",
      "Total Seconds: 691200.0\n"
     ]
    }
   ],
   "source": [
    "#B. Difference Between Dates\n",
    "# Subtracting two datetime or date objects gives a timedelta object.\n",
    "\n",
    "d1 = datetime(2025, 1, 10, 14, 30)\n",
    "d2 = datetime(2025, 1, 2, 14, 30)\n",
    "\n",
    "delta = d1 - d2\n",
    "print(\"Difference:\", delta)        # Output: 8 days, 0:00:00\n",
    "print(\"Total Seconds:\", delta.total_seconds())  # Output: 691200.0\n"
   ]
  },
  {
   "cell_type": "markdown",
   "id": "234b7673",
   "metadata": {},
   "source": [
    "#### 5. Scaling Time Durations\n",
    "You can multiply or divide timedelta objects by integers or floats to scale them."
   ]
  },
  {
   "cell_type": "code",
   "execution_count": 64,
   "id": "150c6fc7",
   "metadata": {},
   "outputs": [
    {
     "name": "stdout",
     "output_type": "stream",
     "text": [
      "3 days, 0:00:00\n"
     ]
    }
   ],
   "source": [
    "# A. Multiplication\n",
    "\n",
    "delta = timedelta(days=1)\n",
    "scaled_delta = delta * 3\n",
    "print(scaled_delta)  # Output: 3 days, 0:00:00\n"
   ]
  },
  {
   "cell_type": "code",
   "execution_count": 65,
   "id": "9e04e59c",
   "metadata": {},
   "outputs": [
    {
     "name": "stdout",
     "output_type": "stream",
     "text": [
      "2 days, 12:00:00\n"
     ]
    }
   ],
   "source": [
    "# B. Division\n",
    "\n",
    "delta = timedelta(days=5)\n",
    "half_delta = delta / 2\n",
    "print(half_delta)  # Output: 2 days, 12:00:00\n"
   ]
  },
  {
   "cell_type": "markdown",
   "id": "1c0c3317",
   "metadata": {},
   "source": [
    "#### 6. Comparing timedelta Objects\n",
    "You can compare timedelta objects using comparison operators."
   ]
  },
  {
   "cell_type": "code",
   "execution_count": 66,
   "id": "6b55c0e1",
   "metadata": {},
   "outputs": [
    {
     "name": "stdout",
     "output_type": "stream",
     "text": [
      "True\n",
      "True\n"
     ]
    }
   ],
   "source": [
    "delta1 = timedelta(days=5)\n",
    "delta2 = timedelta(weeks=1)\n",
    "\n",
    "print(delta1 < delta2)  # True\n",
    "print(delta1 == timedelta(days=5))  # True\n"
   ]
  },
  {
   "cell_type": "markdown",
   "id": "3a7ab31b",
   "metadata": {},
   "source": [
    "#### 7. Converting timedelta to Total Seconds\n",
    "Use the .total_seconds() method to get the total duration in seconds, including days, hours, and minutes."
   ]
  },
  {
   "cell_type": "code",
   "execution_count": 67,
   "id": "3968cc50",
   "metadata": {},
   "outputs": [
    {
     "name": "stdout",
     "output_type": "stream",
     "text": [
      "95400.0\n"
     ]
    }
   ],
   "source": [
    "delta = timedelta(days=1, hours=2, minutes=30)\n",
    "print(delta.total_seconds())  # Output: 93900.0 (1 day + 2 hours + 30 minutes in seconds)\n"
   ]
  },
  {
   "cell_type": "markdown",
   "id": "86c3a7e6",
   "metadata": {},
   "source": [
    "#### 8. Negative timedelta\n",
    "timedelta objects can represent negative durations."
   ]
  },
  {
   "cell_type": "code",
   "execution_count": 68,
   "id": "a9da5186",
   "metadata": {},
   "outputs": [
    {
     "name": "stdout",
     "output_type": "stream",
     "text": [
      "-2 days, 19:00:00\n"
     ]
    }
   ],
   "source": [
    "delta = timedelta(days=-1, hours=-5)\n",
    "print(delta)  # Output: -2 days, 19:00:00\n"
   ]
  },
  {
   "cell_type": "markdown",
   "id": "98a21c59",
   "metadata": {},
   "source": [
    "#### 9. Common Use Cases"
   ]
  },
  {
   "cell_type": "code",
   "execution_count": 69,
   "id": "88b1fa1d",
   "metadata": {},
   "outputs": [
    {
     "name": "stdout",
     "output_type": "stream",
     "text": [
      "Reminder Time: 2025-01-02 12:30:00\n"
     ]
    }
   ],
   "source": [
    "# A. Scheduling Events\n",
    "# Add or subtract time to calculate future or past event times.\n",
    "\n",
    "event_time = datetime(2025, 1, 2, 14, 30)\n",
    "reminder = event_time - timedelta(hours=2)\n",
    "print(\"Reminder Time:\", reminder)  # Output: 2025-01-02 12:30:00\n"
   ]
  },
  {
   "cell_type": "code",
   "execution_count": 70,
   "id": "9016f421",
   "metadata": {},
   "outputs": [
    {
     "name": "stdout",
     "output_type": "stream",
     "text": [
      "Days between: 364\n"
     ]
    }
   ],
   "source": [
    "# B. Duration Between Two Dates\n",
    "# Calculate the number of days or seconds between two dates.\n",
    "\n",
    "start_date = datetime(2025, 1, 1)\n",
    "end_date = datetime(2025, 12, 31)\n",
    "\n",
    "duration = end_date - start_date\n",
    "print(\"Days between:\", duration.days)  # Output: 364\n"
   ]
  },
  {
   "cell_type": "code",
   "execution_count": 71,
   "id": "ff6ed204",
   "metadata": {},
   "outputs": [
    {
     "name": "stdout",
     "output_type": "stream",
     "text": [
      "Time left: 3 days and 0 hours\n"
     ]
    }
   ],
   "source": [
    "# C. Countdown Timer\n",
    "# Create a countdown timer using timedelta. \n",
    "\n",
    "from datetime import datetime, timedelta\n",
    "\n",
    "event_time = datetime(2025, 1, 5, 14, 30)\n",
    "now = datetime(2025, 1, 2, 14, 30)\n",
    "\n",
    "countdown = event_time - now\n",
    "print(f\"Time left: {countdown.days} days and {countdown.seconds // 3600} hours\")\n",
    "# Output: Time left: 3 days and 0 hours\n"
   ]
  },
  {
   "cell_type": "markdown",
   "id": "01fcaeba",
   "metadata": {},
   "source": [
    "#### 10. Limitations of timedelta\n",
    "No Year or Month Support: timedelta does not support months or years because their lengths vary (e.g., February vs July). You must calculate durations in days or use libraries like dateutil.relativedelta for such cases"
   ]
  },
  {
   "cell_type": "code",
   "execution_count": 72,
   "id": "11e9f396",
   "metadata": {},
   "outputs": [
    {
     "name": "stdout",
     "output_type": "stream",
     "text": [
      "2025-03-01 00:00:00\n"
     ]
    }
   ],
   "source": [
    "# Example using dateutil:\n",
    "\n",
    "from dateutil.relativedelta import relativedelta\n",
    "\n",
    "d1 = datetime(2025, 1, 1)\n",
    "d2 = d1 + relativedelta(months=2)\n",
    "print(d2)  # Output: 2025-03-01\n"
   ]
  },
  {
   "cell_type": "markdown",
   "id": "a5e4bbfd",
   "metadata": {},
   "source": [
    "# Overview of the timezone Class\n",
    "Timezones are an essential concept when working with datetime objects, especially for applications that involve global users or systems. Python's datetime module offers basic support for timezones, and the pytz or zoneinfo module provides extensive functionality to work with timezones.\n"
   ]
  },
  {
   "cell_type": "markdown",
   "id": "7aea3f50",
   "metadata": {},
   "source": [
    "#### 1. What Are Timezones?"
   ]
  },
  {
   "cell_type": "raw",
   "id": "d33da4b4",
   "metadata": {},
   "source": [
    "A timezone is a region on Earth where all clocks are set to the same time. Timezones can differ in terms of:\n",
    "\n",
    "Offset from Coordinated Universal Time (UTC), such as UTC+05:30.\n",
    "Observance of Daylight Saving Time (DST).\n",
    "In Python, timezones are classified into:\n",
    "\n",
    "Naive: No timezone information attached.\n",
    "Aware: Includes timezone information (e.g., UTC offset, DST).\n"
   ]
  },
  {
   "cell_type": "markdown",
   "id": "c725f1a0",
   "metadata": {},
   "source": [
    "#### 2. Naive vs Aware datetime"
   ]
  },
  {
   "cell_type": "code",
   "execution_count": 74,
   "id": "a43cd31e",
   "metadata": {},
   "outputs": [
    {
     "name": "stdout",
     "output_type": "stream",
     "text": [
      "2025-01-02 14:30:00\n",
      "None\n"
     ]
    }
   ],
   "source": [
    "# Naive datetime: Lacks timezone awareness.\n",
    "\n",
    "from datetime import datetime\n",
    "\n",
    "naive_dt = datetime(2025, 1, 2, 14, 30)\n",
    "print(naive_dt)  # Output: 2025-01-02 14:30:00\n",
    "print(naive_dt.tzinfo)  # Output: None (no timezone info)\n"
   ]
  },
  {
   "cell_type": "code",
   "execution_count": 75,
   "id": "72e05a3a",
   "metadata": {},
   "outputs": [
    {
     "name": "stdout",
     "output_type": "stream",
     "text": [
      "2025-01-02 14:30:00+00:00\n",
      "UTC\n"
     ]
    }
   ],
   "source": [
    "# Aware datetime: Includes timezone information.\n",
    "\n",
    "from datetime import datetime, timezone\n",
    "\n",
    "aware_dt = datetime(2025, 1, 2, 14, 30, tzinfo=timezone.utc)\n",
    "print(aware_dt)  # Output: 2025-01-02 14:30:00+00:00\n",
    "print(aware_dt.tzinfo)  # Output: UTC\n"
   ]
  },
  {
   "cell_type": "markdown",
   "id": "d2ecd2b2",
   "metadata": {},
   "source": [
    "#### 3. Working with Timezones"
   ]
  },
  {
   "cell_type": "raw",
   "id": "6d544da1",
   "metadata": {},
   "source": [
    "A. Using timezone Class (Basic Support)\n",
    "The timezone class in the datetime module provides basic fixed-offset timezone support.\n",
    "\n"
   ]
  },
  {
   "cell_type": "code",
   "execution_count": 77,
   "id": "166ef087",
   "metadata": {},
   "outputs": [
    {
     "name": "stdout",
     "output_type": "stream",
     "text": [
      "2025-01-02 14:30:00+00:00\n",
      "2025-01-02 14:30:00+05:30\n"
     ]
    }
   ],
   "source": [
    "# 1. Creating an Aware datetime with timezone\n",
    "\n",
    "from datetime import datetime, timezone, timedelta\n",
    "\n",
    "# UTC timezone\n",
    "utc = timezone.utc\n",
    "dt_utc = datetime(2025, 1, 2, 14, 30, tzinfo=utc)\n",
    "print(dt_utc)  # Output: 2025-01-02 14:30:00+00:00\n",
    "\n",
    "# Fixed offset timezone (e.g., UTC+5:30)\n",
    "utc_plus_530 = timezone(timedelta(hours=5, minutes=30))\n",
    "dt_offset = datetime(2025, 1, 2, 14, 30, tzinfo=utc_plus_530)\n",
    "print(dt_offset)  # Output: 2025-01-02 14:30:00+05:30\n"
   ]
  },
  {
   "cell_type": "code",
   "execution_count": 78,
   "id": "74c95053",
   "metadata": {},
   "outputs": [
    {
     "name": "stdout",
     "output_type": "stream",
     "text": [
      "2025-01-02 20:00:00+05:30\n"
     ]
    }
   ],
   "source": [
    "# 2. Converting Between Timezones The .astimezone() method converts an aware datetime to another timezone.\n",
    "\n",
    "dt_utc = datetime(2025, 1, 2, 14, 30, tzinfo=timezone.utc)\n",
    "utc_plus_530 = timezone(timedelta(hours=5, minutes=30))\n",
    "\n",
    "# Convert UTC to UTC+5:30\n",
    "dt_converted = dt_utc.astimezone(utc_plus_530)\n",
    "print(dt_converted)  # Output: 2025-01-02 20:00:00+05:30\n"
   ]
  },
  {
   "cell_type": "raw",
   "id": "9fc6e1a0",
   "metadata": {},
   "source": [
    "B. Using pytz for Advanced Timezone Support\n",
    "The pytz library is widely used for detailed timezone handling, including daylight saving time (DST)."
   ]
  },
  {
   "cell_type": "code",
   "execution_count": null,
   "id": "e91dd13f",
   "metadata": {},
   "outputs": [],
   "source": [
    "# 1. Installing pytz\n",
    "\n",
    "pip install pytz"
   ]
  },
  {
   "cell_type": "code",
   "execution_count": 81,
   "id": "275d02df",
   "metadata": {},
   "outputs": [
    {
     "name": "stdout",
     "output_type": "stream",
     "text": [
      "2025-01-02 14:30:00+05:30\n"
     ]
    }
   ],
   "source": [
    "# 2. Using pytz Timezones\n",
    "\n",
    "from datetime import datetime\n",
    "import pytz\n",
    "\n",
    "# Get a specific timezone\n",
    "india_tz = pytz.timezone('Asia/Kolkata')\n",
    "\n",
    "# Localize a naive datetime\n",
    "naive_dt = datetime(2025, 1, 2, 14, 30)\n",
    "aware_dt = india_tz.localize(naive_dt)\n",
    "print(aware_dt)  # Output: 2025-01-02 14:30:00+05:30\n"
   ]
  },
  {
   "cell_type": "code",
   "execution_count": 82,
   "id": "db8acd5f",
   "metadata": {},
   "outputs": [
    {
     "name": "stdout",
     "output_type": "stream",
     "text": [
      "2025-01-02 20:00:00+05:30\n"
     ]
    }
   ],
   "source": [
    "# 3. Converting Timezones with pytz\n",
    "\n",
    "utc = pytz.utc\n",
    "india_tz = pytz.timezone('Asia/Kolkata')\n",
    "\n",
    "# A UTC datetime\n",
    "dt_utc = utc.localize(datetime(2025, 1, 2, 14, 30))\n",
    "\n",
    "# Convert to India timezone\n",
    "dt_india = dt_utc.astimezone(india_tz)\n",
    "print(dt_india)  # Output: 2025-01-02 20:00:00+05:30\n"
   ]
  },
  {
   "cell_type": "code",
   "execution_count": 83,
   "id": "6dab497e",
   "metadata": {},
   "outputs": [
    {
     "name": "stdout",
     "output_type": "stream",
     "text": [
      "Africa/Abidjan\n",
      "Africa/Accra\n",
      "Africa/Addis_Ababa\n",
      "Africa/Algiers\n",
      "Africa/Asmara\n",
      "Africa/Asmera\n",
      "Africa/Bamako\n",
      "Africa/Bangui\n",
      "Africa/Banjul\n",
      "Africa/Bissau\n",
      "Africa/Blantyre\n",
      "Africa/Brazzaville\n",
      "Africa/Bujumbura\n",
      "Africa/Cairo\n",
      "Africa/Casablanca\n",
      "Africa/Ceuta\n",
      "Africa/Conakry\n",
      "Africa/Dakar\n",
      "Africa/Dar_es_Salaam\n",
      "Africa/Djibouti\n",
      "Africa/Douala\n",
      "Africa/El_Aaiun\n",
      "Africa/Freetown\n",
      "Africa/Gaborone\n",
      "Africa/Harare\n",
      "Africa/Johannesburg\n",
      "Africa/Juba\n",
      "Africa/Kampala\n",
      "Africa/Khartoum\n",
      "Africa/Kigali\n",
      "Africa/Kinshasa\n",
      "Africa/Lagos\n",
      "Africa/Libreville\n",
      "Africa/Lome\n",
      "Africa/Luanda\n",
      "Africa/Lubumbashi\n",
      "Africa/Lusaka\n",
      "Africa/Malabo\n",
      "Africa/Maputo\n",
      "Africa/Maseru\n",
      "Africa/Mbabane\n",
      "Africa/Mogadishu\n",
      "Africa/Monrovia\n",
      "Africa/Nairobi\n",
      "Africa/Ndjamena\n",
      "Africa/Niamey\n",
      "Africa/Nouakchott\n",
      "Africa/Ouagadougou\n",
      "Africa/Porto-Novo\n",
      "Africa/Sao_Tome\n",
      "Africa/Timbuktu\n",
      "Africa/Tripoli\n",
      "Africa/Tunis\n",
      "Africa/Windhoek\n",
      "America/Adak\n",
      "America/Anchorage\n",
      "America/Anguilla\n",
      "America/Antigua\n",
      "America/Araguaina\n",
      "America/Argentina/Buenos_Aires\n",
      "America/Argentina/Catamarca\n",
      "America/Argentina/ComodRivadavia\n",
      "America/Argentina/Cordoba\n",
      "America/Argentina/Jujuy\n",
      "America/Argentina/La_Rioja\n",
      "America/Argentina/Mendoza\n",
      "America/Argentina/Rio_Gallegos\n",
      "America/Argentina/Salta\n",
      "America/Argentina/San_Juan\n",
      "America/Argentina/San_Luis\n",
      "America/Argentina/Tucuman\n",
      "America/Argentina/Ushuaia\n",
      "America/Aruba\n",
      "America/Asuncion\n",
      "America/Atikokan\n",
      "America/Atka\n",
      "America/Bahia\n",
      "America/Bahia_Banderas\n",
      "America/Barbados\n",
      "America/Belem\n",
      "America/Belize\n",
      "America/Blanc-Sablon\n",
      "America/Boa_Vista\n",
      "America/Bogota\n",
      "America/Boise\n",
      "America/Buenos_Aires\n",
      "America/Cambridge_Bay\n",
      "America/Campo_Grande\n",
      "America/Cancun\n",
      "America/Caracas\n",
      "America/Catamarca\n",
      "America/Cayenne\n",
      "America/Cayman\n",
      "America/Chicago\n",
      "America/Chihuahua\n",
      "America/Ciudad_Juarez\n",
      "America/Coral_Harbour\n",
      "America/Cordoba\n",
      "America/Costa_Rica\n",
      "America/Creston\n",
      "America/Cuiaba\n",
      "America/Curacao\n",
      "America/Danmarkshavn\n",
      "America/Dawson\n",
      "America/Dawson_Creek\n",
      "America/Denver\n",
      "America/Detroit\n",
      "America/Dominica\n",
      "America/Edmonton\n",
      "America/Eirunepe\n",
      "America/El_Salvador\n",
      "America/Ensenada\n",
      "America/Fort_Nelson\n",
      "America/Fort_Wayne\n",
      "America/Fortaleza\n",
      "America/Glace_Bay\n",
      "America/Godthab\n",
      "America/Goose_Bay\n",
      "America/Grand_Turk\n",
      "America/Grenada\n",
      "America/Guadeloupe\n",
      "America/Guatemala\n",
      "America/Guayaquil\n",
      "America/Guyana\n",
      "America/Halifax\n",
      "America/Havana\n",
      "America/Hermosillo\n",
      "America/Indiana/Indianapolis\n",
      "America/Indiana/Knox\n",
      "America/Indiana/Marengo\n",
      "America/Indiana/Petersburg\n",
      "America/Indiana/Tell_City\n",
      "America/Indiana/Vevay\n",
      "America/Indiana/Vincennes\n",
      "America/Indiana/Winamac\n",
      "America/Indianapolis\n",
      "America/Inuvik\n",
      "America/Iqaluit\n",
      "America/Jamaica\n",
      "America/Jujuy\n",
      "America/Juneau\n",
      "America/Kentucky/Louisville\n",
      "America/Kentucky/Monticello\n",
      "America/Knox_IN\n",
      "America/Kralendijk\n",
      "America/La_Paz\n",
      "America/Lima\n",
      "America/Los_Angeles\n",
      "America/Louisville\n",
      "America/Lower_Princes\n",
      "America/Maceio\n",
      "America/Managua\n",
      "America/Manaus\n",
      "America/Marigot\n",
      "America/Martinique\n",
      "America/Matamoros\n",
      "America/Mazatlan\n",
      "America/Mendoza\n",
      "America/Menominee\n",
      "America/Merida\n",
      "America/Metlakatla\n",
      "America/Mexico_City\n",
      "America/Miquelon\n",
      "America/Moncton\n",
      "America/Monterrey\n",
      "America/Montevideo\n",
      "America/Montreal\n",
      "America/Montserrat\n",
      "America/Nassau\n",
      "America/New_York\n",
      "America/Nipigon\n",
      "America/Nome\n",
      "America/Noronha\n",
      "America/North_Dakota/Beulah\n",
      "America/North_Dakota/Center\n",
      "America/North_Dakota/New_Salem\n",
      "America/Nuuk\n",
      "America/Ojinaga\n",
      "America/Panama\n",
      "America/Pangnirtung\n",
      "America/Paramaribo\n",
      "America/Phoenix\n",
      "America/Port-au-Prince\n",
      "America/Port_of_Spain\n",
      "America/Porto_Acre\n",
      "America/Porto_Velho\n",
      "America/Puerto_Rico\n",
      "America/Punta_Arenas\n",
      "America/Rainy_River\n",
      "America/Rankin_Inlet\n",
      "America/Recife\n",
      "America/Regina\n",
      "America/Resolute\n",
      "America/Rio_Branco\n",
      "America/Rosario\n",
      "America/Santa_Isabel\n",
      "America/Santarem\n",
      "America/Santiago\n",
      "America/Santo_Domingo\n",
      "America/Sao_Paulo\n",
      "America/Scoresbysund\n",
      "America/Shiprock\n",
      "America/Sitka\n",
      "America/St_Barthelemy\n",
      "America/St_Johns\n",
      "America/St_Kitts\n",
      "America/St_Lucia\n",
      "America/St_Thomas\n",
      "America/St_Vincent\n",
      "America/Swift_Current\n",
      "America/Tegucigalpa\n",
      "America/Thule\n",
      "America/Thunder_Bay\n",
      "America/Tijuana\n",
      "America/Toronto\n",
      "America/Tortola\n",
      "America/Vancouver\n",
      "America/Virgin\n",
      "America/Whitehorse\n",
      "America/Winnipeg\n",
      "America/Yakutat\n",
      "America/Yellowknife\n",
      "Antarctica/Casey\n",
      "Antarctica/Davis\n",
      "Antarctica/DumontDUrville\n",
      "Antarctica/Macquarie\n",
      "Antarctica/Mawson\n",
      "Antarctica/McMurdo\n",
      "Antarctica/Palmer\n",
      "Antarctica/Rothera\n",
      "Antarctica/South_Pole\n",
      "Antarctica/Syowa\n",
      "Antarctica/Troll\n",
      "Antarctica/Vostok\n",
      "Arctic/Longyearbyen\n",
      "Asia/Aden\n",
      "Asia/Almaty\n",
      "Asia/Amman\n",
      "Asia/Anadyr\n",
      "Asia/Aqtau\n",
      "Asia/Aqtobe\n",
      "Asia/Ashgabat\n",
      "Asia/Ashkhabad\n",
      "Asia/Atyrau\n",
      "Asia/Baghdad\n",
      "Asia/Bahrain\n",
      "Asia/Baku\n",
      "Asia/Bangkok\n",
      "Asia/Barnaul\n",
      "Asia/Beirut\n",
      "Asia/Bishkek\n",
      "Asia/Brunei\n",
      "Asia/Calcutta\n",
      "Asia/Chita\n",
      "Asia/Choibalsan\n",
      "Asia/Chongqing\n",
      "Asia/Chungking\n",
      "Asia/Colombo\n",
      "Asia/Dacca\n",
      "Asia/Damascus\n",
      "Asia/Dhaka\n",
      "Asia/Dili\n",
      "Asia/Dubai\n",
      "Asia/Dushanbe\n",
      "Asia/Famagusta\n",
      "Asia/Gaza\n",
      "Asia/Harbin\n",
      "Asia/Hebron\n",
      "Asia/Ho_Chi_Minh\n",
      "Asia/Hong_Kong\n",
      "Asia/Hovd\n",
      "Asia/Irkutsk\n",
      "Asia/Istanbul\n",
      "Asia/Jakarta\n",
      "Asia/Jayapura\n",
      "Asia/Jerusalem\n",
      "Asia/Kabul\n",
      "Asia/Kamchatka\n",
      "Asia/Karachi\n",
      "Asia/Kashgar\n",
      "Asia/Kathmandu\n",
      "Asia/Katmandu\n",
      "Asia/Khandyga\n",
      "Asia/Kolkata\n",
      "Asia/Krasnoyarsk\n",
      "Asia/Kuala_Lumpur\n",
      "Asia/Kuching\n",
      "Asia/Kuwait\n",
      "Asia/Macao\n",
      "Asia/Macau\n",
      "Asia/Magadan\n",
      "Asia/Makassar\n",
      "Asia/Manila\n",
      "Asia/Muscat\n",
      "Asia/Nicosia\n",
      "Asia/Novokuznetsk\n",
      "Asia/Novosibirsk\n",
      "Asia/Omsk\n",
      "Asia/Oral\n",
      "Asia/Phnom_Penh\n",
      "Asia/Pontianak\n",
      "Asia/Pyongyang\n",
      "Asia/Qatar\n",
      "Asia/Qostanay\n",
      "Asia/Qyzylorda\n",
      "Asia/Rangoon\n",
      "Asia/Riyadh\n",
      "Asia/Saigon\n",
      "Asia/Sakhalin\n",
      "Asia/Samarkand\n",
      "Asia/Seoul\n",
      "Asia/Shanghai\n",
      "Asia/Singapore\n",
      "Asia/Srednekolymsk\n",
      "Asia/Taipei\n",
      "Asia/Tashkent\n",
      "Asia/Tbilisi\n",
      "Asia/Tehran\n",
      "Asia/Tel_Aviv\n",
      "Asia/Thimbu\n",
      "Asia/Thimphu\n",
      "Asia/Tokyo\n",
      "Asia/Tomsk\n",
      "Asia/Ujung_Pandang\n",
      "Asia/Ulaanbaatar\n",
      "Asia/Ulan_Bator\n",
      "Asia/Urumqi\n",
      "Asia/Ust-Nera\n",
      "Asia/Vientiane\n",
      "Asia/Vladivostok\n",
      "Asia/Yakutsk\n",
      "Asia/Yangon\n",
      "Asia/Yekaterinburg\n",
      "Asia/Yerevan\n",
      "Atlantic/Azores\n",
      "Atlantic/Bermuda\n",
      "Atlantic/Canary\n",
      "Atlantic/Cape_Verde\n",
      "Atlantic/Faeroe\n",
      "Atlantic/Faroe\n",
      "Atlantic/Jan_Mayen\n",
      "Atlantic/Madeira\n",
      "Atlantic/Reykjavik\n",
      "Atlantic/South_Georgia\n",
      "Atlantic/St_Helena\n",
      "Atlantic/Stanley\n",
      "Australia/ACT\n",
      "Australia/Adelaide\n",
      "Australia/Brisbane\n",
      "Australia/Broken_Hill\n",
      "Australia/Canberra\n",
      "Australia/Currie\n",
      "Australia/Darwin\n",
      "Australia/Eucla\n",
      "Australia/Hobart\n",
      "Australia/LHI\n",
      "Australia/Lindeman\n",
      "Australia/Lord_Howe\n",
      "Australia/Melbourne\n",
      "Australia/NSW\n",
      "Australia/North\n",
      "Australia/Perth\n",
      "Australia/Queensland\n",
      "Australia/South\n",
      "Australia/Sydney\n",
      "Australia/Tasmania\n",
      "Australia/Victoria\n",
      "Australia/West\n",
      "Australia/Yancowinna\n",
      "Brazil/Acre\n",
      "Brazil/DeNoronha\n",
      "Brazil/East\n",
      "Brazil/West\n",
      "CET\n",
      "CST6CDT\n",
      "Canada/Atlantic\n",
      "Canada/Central\n",
      "Canada/Eastern\n",
      "Canada/Mountain\n",
      "Canada/Newfoundland\n",
      "Canada/Pacific\n",
      "Canada/Saskatchewan\n",
      "Canada/Yukon\n",
      "Chile/Continental\n",
      "Chile/EasterIsland\n",
      "Cuba\n",
      "EET\n",
      "EST\n",
      "EST5EDT\n",
      "Egypt\n",
      "Eire\n",
      "Etc/GMT\n",
      "Etc/GMT+0\n",
      "Etc/GMT+1\n",
      "Etc/GMT+10\n",
      "Etc/GMT+11\n",
      "Etc/GMT+12\n",
      "Etc/GMT+2\n",
      "Etc/GMT+3\n",
      "Etc/GMT+4\n",
      "Etc/GMT+5\n",
      "Etc/GMT+6\n",
      "Etc/GMT+7\n",
      "Etc/GMT+8\n",
      "Etc/GMT+9\n",
      "Etc/GMT-0\n",
      "Etc/GMT-1\n",
      "Etc/GMT-10\n",
      "Etc/GMT-11\n",
      "Etc/GMT-12\n",
      "Etc/GMT-13\n",
      "Etc/GMT-14\n",
      "Etc/GMT-2\n",
      "Etc/GMT-3\n",
      "Etc/GMT-4\n",
      "Etc/GMT-5\n",
      "Etc/GMT-6\n",
      "Etc/GMT-7\n",
      "Etc/GMT-8\n",
      "Etc/GMT-9\n",
      "Etc/GMT0\n",
      "Etc/Greenwich\n",
      "Etc/UCT\n",
      "Etc/UTC\n",
      "Etc/Universal\n",
      "Etc/Zulu\n",
      "Europe/Amsterdam\n",
      "Europe/Andorra\n",
      "Europe/Astrakhan\n",
      "Europe/Athens\n",
      "Europe/Belfast\n",
      "Europe/Belgrade\n",
      "Europe/Berlin\n",
      "Europe/Bratislava\n",
      "Europe/Brussels\n",
      "Europe/Bucharest\n",
      "Europe/Budapest\n",
      "Europe/Busingen\n",
      "Europe/Chisinau\n",
      "Europe/Copenhagen\n",
      "Europe/Dublin\n",
      "Europe/Gibraltar\n",
      "Europe/Guernsey\n",
      "Europe/Helsinki\n",
      "Europe/Isle_of_Man\n",
      "Europe/Istanbul\n",
      "Europe/Jersey\n",
      "Europe/Kaliningrad\n",
      "Europe/Kiev\n",
      "Europe/Kirov\n",
      "Europe/Kyiv\n",
      "Europe/Lisbon\n",
      "Europe/Ljubljana\n",
      "Europe/London\n",
      "Europe/Luxembourg\n",
      "Europe/Madrid\n",
      "Europe/Malta\n",
      "Europe/Mariehamn\n",
      "Europe/Minsk\n",
      "Europe/Monaco\n",
      "Europe/Moscow\n",
      "Europe/Nicosia\n",
      "Europe/Oslo\n",
      "Europe/Paris\n",
      "Europe/Podgorica\n",
      "Europe/Prague\n",
      "Europe/Riga\n",
      "Europe/Rome\n",
      "Europe/Samara\n",
      "Europe/San_Marino\n",
      "Europe/Sarajevo\n",
      "Europe/Saratov\n",
      "Europe/Simferopol\n",
      "Europe/Skopje\n",
      "Europe/Sofia\n",
      "Europe/Stockholm\n",
      "Europe/Tallinn\n",
      "Europe/Tirane\n",
      "Europe/Tiraspol\n",
      "Europe/Ulyanovsk\n",
      "Europe/Uzhgorod\n",
      "Europe/Vaduz\n",
      "Europe/Vatican\n",
      "Europe/Vienna\n",
      "Europe/Vilnius\n",
      "Europe/Volgograd\n",
      "Europe/Warsaw\n",
      "Europe/Zagreb\n",
      "Europe/Zaporozhye\n",
      "Europe/Zurich\n",
      "GB\n",
      "GB-Eire\n",
      "GMT\n",
      "GMT+0\n",
      "GMT-0\n",
      "GMT0\n",
      "Greenwich\n",
      "HST\n",
      "Hongkong\n",
      "Iceland\n",
      "Indian/Antananarivo\n",
      "Indian/Chagos\n",
      "Indian/Christmas\n",
      "Indian/Cocos\n",
      "Indian/Comoro\n",
      "Indian/Kerguelen\n",
      "Indian/Mahe\n",
      "Indian/Maldives\n",
      "Indian/Mauritius\n",
      "Indian/Mayotte\n",
      "Indian/Reunion\n",
      "Iran\n",
      "Israel\n",
      "Jamaica\n",
      "Japan\n",
      "Kwajalein\n",
      "Libya\n",
      "MET\n",
      "MST\n",
      "MST7MDT\n",
      "Mexico/BajaNorte\n",
      "Mexico/BajaSur\n",
      "Mexico/General\n",
      "NZ\n",
      "NZ-CHAT\n",
      "Navajo\n",
      "PRC\n",
      "PST8PDT\n",
      "Pacific/Apia\n",
      "Pacific/Auckland\n",
      "Pacific/Bougainville\n",
      "Pacific/Chatham\n",
      "Pacific/Chuuk\n",
      "Pacific/Easter\n",
      "Pacific/Efate\n",
      "Pacific/Enderbury\n",
      "Pacific/Fakaofo\n",
      "Pacific/Fiji\n",
      "Pacific/Funafuti\n",
      "Pacific/Galapagos\n",
      "Pacific/Gambier\n",
      "Pacific/Guadalcanal\n",
      "Pacific/Guam\n",
      "Pacific/Honolulu\n",
      "Pacific/Johnston\n",
      "Pacific/Kanton\n",
      "Pacific/Kiritimati\n",
      "Pacific/Kosrae\n",
      "Pacific/Kwajalein\n",
      "Pacific/Majuro\n",
      "Pacific/Marquesas\n",
      "Pacific/Midway\n",
      "Pacific/Nauru\n",
      "Pacific/Niue\n",
      "Pacific/Norfolk\n",
      "Pacific/Noumea\n",
      "Pacific/Pago_Pago\n",
      "Pacific/Palau\n",
      "Pacific/Pitcairn\n",
      "Pacific/Pohnpei\n",
      "Pacific/Ponape\n",
      "Pacific/Port_Moresby\n",
      "Pacific/Rarotonga\n",
      "Pacific/Saipan\n",
      "Pacific/Samoa\n",
      "Pacific/Tahiti\n",
      "Pacific/Tarawa\n",
      "Pacific/Tongatapu\n",
      "Pacific/Truk\n",
      "Pacific/Wake\n",
      "Pacific/Wallis\n",
      "Pacific/Yap\n",
      "Poland\n",
      "Portugal\n",
      "ROC\n",
      "ROK\n",
      "Singapore\n",
      "Turkey\n",
      "UCT\n",
      "US/Alaska\n",
      "US/Aleutian\n",
      "US/Arizona\n",
      "US/Central\n",
      "US/East-Indiana\n",
      "US/Eastern\n",
      "US/Hawaii\n",
      "US/Indiana-Starke\n",
      "US/Michigan\n",
      "US/Mountain\n",
      "US/Pacific\n",
      "US/Samoa\n",
      "UTC\n",
      "Universal\n",
      "W-SU\n",
      "WET\n",
      "Zulu\n"
     ]
    }
   ],
   "source": [
    "# 4. List All Available Timezones\n",
    "\n",
    "import pytz\n",
    "\n",
    "for tz in pytz.all_timezones:\n",
    "    print(tz)\n"
   ]
  },
  {
   "cell_type": "raw",
   "id": "2e963728",
   "metadata": {},
   "source": [
    "C. Using zoneinfo (Python 3.9+ Built-in Support)\n",
    "zoneinfo is the modern, built-in replacement for pytz."
   ]
  },
  {
   "cell_type": "code",
   "execution_count": null,
   "id": "329f6511",
   "metadata": {},
   "outputs": [],
   "source": [
    "# 1. Importing and Using zoneinfo\n",
    "\n",
    "from datetime import datetime\n",
    "from zoneinfo import ZoneInfo\n",
    "\n",
    "# Create timezone-aware datetime\n",
    "dt_india = datetime(2025, 1, 2, 14, 30, tzinfo=ZoneInfo('Asia/Kolkata'))\n",
    "print(dt_india)  # Output: 2025-01-02 14:30:00+05:30"
   ]
  },
  {
   "cell_type": "code",
   "execution_count": null,
   "id": "11d44f89",
   "metadata": {},
   "outputs": [],
   "source": [
    "# 2. Converting Between Timezones\n",
    "\n",
    "from datetime import datetime\n",
    "from zoneinfo import ZoneInfo\n",
    "\n",
    "dt_utc = datetime(2025, 1, 2, 14, 30, tzinfo=ZoneInfo('UTC'))\n",
    "dt_india = dt_utc.astimezone(ZoneInfo('Asia/Kolkata'))\n",
    "print(dt_india)  # Output: 2025-01-02 20:00:00+05:30\n"
   ]
  },
  {
   "cell_type": "code",
   "execution_count": null,
   "id": "5e663705",
   "metadata": {},
   "outputs": [],
   "source": [
    "# 3. List Available Timezones\n",
    "\n",
    "from zoneinfo import available_timezones\n",
    "\n",
    "for tz in sorted(available_timezones())[:10]:  # Displaying the first 10\n",
    "    print(tz)\n"
   ]
  },
  {
   "cell_type": "markdown",
   "id": "9370deb8",
   "metadata": {},
   "source": [
    "#### 4. Common Timezone Use Cases"
   ]
  },
  {
   "cell_type": "code",
   "execution_count": null,
   "id": "7e885c5d",
   "metadata": {},
   "outputs": [],
   "source": [
    "# A. Handling Daylight Saving Time (DST)\n",
    "# With libraries like pytz or zoneinfo, DST changes are handled automatically\n",
    "\n",
    "from datetime import datetime\n",
    "from zoneinfo import ZoneInfo\n",
    "\n",
    "# Daylight Saving Time example for New York\n",
    "dt_standard = datetime(2025, 1, 2, 14, 30, tzinfo=ZoneInfo('America/New_York'))\n",
    "dt_dst = datetime(2025, 7, 2, 14, 30, tzinfo=ZoneInfo('America/New_York'))\n",
    "\n",
    "print(dt_standard)  # Output: 2025-01-02 14:30:00-05:00 (Standard Time)\n",
    "print(dt_dst)       # Output: 2025-07-02 14:30:00-04:00 (DST)\n"
   ]
  },
  {
   "cell_type": "code",
   "execution_count": null,
   "id": "3ac63511",
   "metadata": {},
   "outputs": [],
   "source": [
    "# B. Comparing Aware Datetimes\n",
    "# You can directly compare aware datetime objects, even if they have different timezones.\n",
    "\n",
    "from datetime import datetime\n",
    "from zoneinfo import ZoneInfo\n",
    "\n",
    "dt_utc = datetime(2025, 1, 2, 14, 30, tzinfo=ZoneInfo('UTC'))\n",
    "dt_india = datetime(2025, 1, 2, 20, 0, tzinfo=ZoneInfo('Asia/Kolkata'))\n",
    "\n",
    "print(dt_utc == dt_india)  # Output: True (both represent the same instant in time)\n"
   ]
  },
  {
   "cell_type": "code",
   "execution_count": null,
   "id": "9f4f9d6e",
   "metadata": {},
   "outputs": [],
   "source": [
    "# C. Store UTC in Databases\n",
    "# It's a best practice to store datetime in UTC and convert it to local time when needed.\n",
    "\n",
    "# Store in UTC\n",
    "utc_now = datetime.now(tz=ZoneInfo('UTC'))\n",
    "\n",
    "# Convert to local timezone for display\n",
    "local_now = utc_now.astimezone(ZoneInfo('Asia/Kolkata'))\n"
   ]
  }
 ],
 "metadata": {
  "kernelspec": {
   "display_name": "Python 3 (ipykernel)",
   "language": "python",
   "name": "python3"
  },
  "language_info": {
   "codemirror_mode": {
    "name": "ipython",
    "version": 3
   },
   "file_extension": ".py",
   "mimetype": "text/x-python",
   "name": "python",
   "nbconvert_exporter": "python",
   "pygments_lexer": "ipython3",
   "version": "3.7.0"
  }
 },
 "nbformat": 4,
 "nbformat_minor": 5
}
